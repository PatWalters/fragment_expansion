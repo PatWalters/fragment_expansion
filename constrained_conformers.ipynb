{
 "cells": [
  {
   "cell_type": "code",
   "execution_count": 65,
   "metadata": {},
   "outputs": [],
   "source": [
    "from rdkit import Chem\n",
    "from rdkit.Chem import AllChem\n",
    "from rdkit.Chem.rdMolAlign import AlignMol\n",
    "from rdkit.Chem.rdmolops import RemoveHs"
   ]
  },
  {
   "cell_type": "markdown",
   "metadata": {},
   "source": [
    "The molecule that will define the fixed piece"
   ]
  },
  {
   "cell_type": "code",
   "execution_count": 2,
   "metadata": {},
   "outputs": [],
   "source": [
    "ref_buff = \"\"\"ref_ligand\n",
    "                    3D\n",
    " Schrodinger Suite 2019-4.\n",
    " 23 23  0  0  1  0            999 V2000\n",
    "   13.8921   -2.4077   24.1269 C   0  0  0  0  0  0\n",
    "   13.4897   -0.2702   23.1446 C   0  0  0  0  0  0\n",
    "   12.8011    1.0351   23.3277 C   0  0  0  0  0  0\n",
    "   11.6117    1.1475   24.0810 C   0  0  0  0  0  0\n",
    "   10.9808    2.3973   24.2401 C   0  0  0  0  0  0\n",
    "   11.5348    3.5418   23.6347 C   0  0  0  0  0  0\n",
    "   12.7111    3.4432   22.8672 C   0  0  0  0  0  0\n",
    "   13.3408    2.1928   22.7264 C   0  0  0  0  0  0\n",
    "    9.4491    5.0959   22.7844 N   0  0  0  0  0  0\n",
    "   13.2656   -1.1348   24.1544 O   0  0  0  0  0  0\n",
    "   14.2110   -0.5201   22.1789 O   0  0  0  0  0  0\n",
    "   11.6894    6.1877   23.4320 O   0  0  0  0  0  0\n",
    "   10.1931    5.1760   25.2380 O   0  0  0  0  0  0\n",
    "   10.7644    5.1384   23.8833 S   0  0  0  0  0  0\n",
    "   13.5601   -3.0220   24.9622 H   0  0  0  0  0  0\n",
    "   13.6512   -2.9371   23.2047 H   0  0  0  0  0  0\n",
    "   14.9743   -2.3067   24.1963 H   0  0  0  0  0  0\n",
    "   11.1706    0.2738   24.5305 H   0  0  0  0  0  0\n",
    "   10.0785    2.4749   24.8291 H   0  0  0  0  0  0\n",
    "   13.1467    4.3202   22.4103 H   0  0  0  0  0  0\n",
    "   14.2657    2.1382   22.1772 H   0  0  0  0  0  0\n",
    "    8.9928    6.0050   22.7148 H   0  0  0  0  0  0\n",
    "    8.7689    4.3739   23.0292 H   0  0  0  0  0  0\n",
    "  1 10  1  0  0  0\n",
    "  1 15  1  0  0  0\n",
    "  1 16  1  0  0  0\n",
    "  1 17  1  0  0  0\n",
    "  2  3  1  0  0  0\n",
    "  2 10  1  0  0  0\n",
    "  2 11  2  0  0  0\n",
    "  3  4  1  0  0  0\n",
    "  3  8  2  0  0  0\n",
    "  4  5  2  0  0  0\n",
    "  4 18  1  0  0  0\n",
    "  5  6  1  0  0  0\n",
    "  5 19  1  0  0  0\n",
    "  6  7  2  0  0  0\n",
    "  6 14  1  0  0  0\n",
    "  7  8  1  0  0  0\n",
    "  7 20  1  0  0  0\n",
    "  8 21  1  0  0  0\n",
    "  9 14  1  0  0  0\n",
    "  9 22  1  0  0  0\n",
    "  9 23  1  0  0  0\n",
    " 12 14  2  0  0  0\n",
    " 13 14  2  0  0  0\n",
    "M  END\n",
    "$$$\n",
    "\"\"\""
   ]
  },
  {
   "cell_type": "code",
   "execution_count": 3,
   "metadata": {},
   "outputs": [],
   "source": [
    "ref = Chem.MolFromMolBlock(ref_buff)"
   ]
  },
  {
   "cell_type": "code",
   "execution_count": 4,
   "metadata": {},
   "outputs": [
    {
     "data": {
      "image/png": "[encoded data removed]",
      "text/plain": [
       "<rdkit.Chem.rdchem.Mol at 0x10776bdf0>"
      ]
     },
     "execution_count": 4,
     "metadata": {},
     "output_type": "execute_result"
    }
   ],
   "source": [
    "ref"
   ]
  },
  {
   "cell_type": "markdown",
   "metadata": {},
   "source": [
    "We want to generate conformers for this molecule with ref fixed"
   ]
  },
  {
   "cell_type": "code",
   "execution_count": 68,
   "metadata": {},
   "outputs": [
    {
     "data": {
      "image/png": "[encoded data removed]",
      "text/plain": [
       "<rdkit.Chem.rdchem.Mol at 0x11aed8030>"
      ]
     },
     "execution_count": 68,
     "metadata": {},
     "output_type": "execute_result"
    }
   ],
   "source": [
    "smiles = \"NS(=O)(=O)c1ccc(C(=O)OCc2ccc(Br)s2)cc1\"\n",
    "mol = Chem.MolFromSmiles(smiles)\n",
    "mol = Chem.AddHs(mol)\n",
    "mol"
   ]
  },
  {
   "cell_type": "markdown",
   "metadata": {},
   "source": [
    "A simple function to generate conformers with a constrained piece and align the resulting conformers to the reference. "
   ]
  },
  {
   "cell_type": "code",
   "execution_count": 57,
   "metadata": {},
   "outputs": [],
   "source": [
    "def generate_aligned_conformers(mol, ref):\n",
    "    # generate a pattern for matching, not sure if this is necessary\n",
    "    ref_smi = Chem.MolToSmiles(ref)\n",
    "    ref_pat = Chem.MolFromSmarts(ref_smi)\n",
    "    # match mol and ref to the pattern to get atom maps\n",
    "    ref_map = ref.GetSubstructMatch(ref_pat)\n",
    "    mol_map = mol.GetSubstructMatch(ref_pat)\n",
    "    # get the list of coordinates to fix in the conformer generation step\n",
    "    ref_crd_list = [ref.GetConformer(0).GetAtomPosition(x) for x in ref_map]\n",
    "    # create a correspondence between the atoms in mol and coordinates\n",
    "    crd_map = dict(zip(mol_map,ref_crd_list))\n",
    "    # generate conformers\n",
    "    AllChem.EmbedMultipleConfs(mol, useExpTorsionAnglePrefs=True, useBasicKnowledge=True, coordMap=crd_map)\n",
    "    # Align the conformers to ref\n",
    "    atom_map = list(zip(mol_map,ref_map))\n",
    "    rms_list = []\n",
    "    for i in range(0,mol.GetNumConformers()):\n",
    "        rms_list.append(AlignMol(prbMol=mol,refMol=ref,prbCid=i,refCid=0,atomMap=atom_map))\n",
    "    return rms_list"
   ]
  },
  {
   "cell_type": "code",
   "execution_count": 58,
   "metadata": {},
   "outputs": [
    {
     "data": {
      "text/plain": [
       "[0.9988816655342552,\n",
       " 0.9989662408217492,\n",
       " 0.9988195686336423,\n",
       " 0.17211655452091812,\n",
       " 0.9988716288575492,\n",
       " 0.9985922869733387,\n",
       " 0.9987462730595041,\n",
       " 0.9987995724128214,\n",
       " 0.17195403901260475,\n",
       " 0.9990544187783106]"
      ]
     },
     "execution_count": 58,
     "metadata": {},
     "output_type": "execute_result"
    }
   ],
   "source": [
    "generate_aligned_conformers(mol,ref)"
   ]
  },
  {
   "cell_type": "markdown",
   "metadata": {},
   "source": [
    "Note that the resulting conformers have two different orientations for the sulfonamide. "
   ]
  },
  {
   "cell_type": "code",
   "execution_count": 66,
   "metadata": {},
   "outputs": [
    {
     "data": {
      "application/3dmoljs_load.v0": "<div id=\"3dmolviewer_15860266944861171\"  style=\"position: relative; width: 640px; height: 480px\">\n        <p id=\"3dmolwarning_15860266944861171\" style=\"background-color:#ffcccc;color:black\">You appear to be running in JupyterLab (or JavaScript failed to load for some other reason).  You need to install the 3dmol extension: <br>\n        <tt>jupyter labextension install jupyterlab_3dmol</tt></p>\n        </div>\n<script>\n\nvar loadScriptAsync = function(uri){\n  return new Promise((resolve, reject) => {\n    var tag = document.createElement('script');\n    tag.src = uri;\n    tag.async = true;\n    tag.onload = () => {\n      resolve();\n    };\n  var firstScriptTag = document.getElementsByTagName('script')[0];\n  firstScriptTag.parentNode.insertBefore(tag, firstScriptTag);\n});\n};\n\nif(typeof $3Dmolpromise === 'undefined') {\n$3Dmolpromise = null;\n  $3Dmolpromise = loadScriptAsync('https://3dmol.csb.pitt.edu/build/3Dmol.js');\n}\n\nvar viewer_15860266944861171 = null;\nvar warn = document.getElementById(\"3dmolwarning_15860266944861171\");\nif(warn) {\n    warn.parentNode.removeChild(warn);\n}\n$3Dmolpromise.then(function() {\nviewer_15860266944861171 = $3Dmol.createViewer($(\"#3dmolviewer_15860266944861171\"),{backgroundColor:\"white\"});\n\tviewer_15860266944861171.addModel(\"\\n     RDKit          3D\\n\\n 20 21  0  0  0  0  0  0  0  0999 V2000\\n   11.3545    5.8728   25.0061 N   0  0  0  0  0  0  0  0  0  0  0  0\\n   10.6008    5.0709   23.7096 S   0  0  0  0  0  0  0  0  0  0  0  0\\n   10.8719    5.8560   22.4817 O   0  0  0  0  0  0  0  0  0  0  0  0\\n    9.2142    4.7792   24.0875 O   0  0  0  0  0  0  0  0  0  0  0  0\\n   11.4952    3.5298   23.5807 C   0  0  0  0  0  0  0  0  0  0  0  0\\n   11.1087    2.4380   24.4006 C   0  0  0  0  0  0  0  0  0  0  0  0\\n   11.7897    1.2283   24.2877 C   0  0  0  0  0  0  0  0  0  0  0  0\\n   12.8465    1.0522   23.3897 C   0  0  0  0  0  0  0  0  0  0  0  0\\n   13.5717   -0.2305   23.2312 C   0  0  0  0  0  0  0  0  0  0  0  0\\n   14.5335   -0.3840   22.4684 O   0  0  0  0  0  0  0  0  0  0  0  0\\n   13.0896   -1.2180   23.9904 O   0  0  0  0  0  0  0  0  0  0  0  0\\n   13.6870   -2.5012   23.9321 C   0  0  0  0  0  0  0  0  0  0  0  0\\n   13.5447   -2.9636   22.5071 C   0  0  0  0  0  0  0  0  0  0  0  0\\n   14.0188   -4.1155   21.9521 C   0  0  0  0  0  0  0  0  0  0  0  0\\n   13.7708   -4.3263   20.6507 C   0  0  0  0  0  0  0  0  0  0  0  0\\n   13.0590   -3.3637   19.9837 C   0  0  0  0  0  0  0  0  0  0  0  0\\n   12.5370   -3.3560   18.1281 Br  0  0  0  0  0  0  0  0  0  0  0  0\\n   12.7635   -2.2026   21.1968 S   0  0  0  0  0  0  0  0  0  0  0  0\\n   13.2226    2.1567   22.5752 C   0  0  0  0  0  0  0  0  0  0  0  0\\n   12.5488    3.3726   22.6786 C   0  0  0  0  0  0  0  0  0  0  0  0\\n  1  2  1  0\\n  2  3  2  0\\n  2  4  2  0\\n  2  5  1  0\\n  5  6  2  0\\n  6  7  1  0\\n  7  8  2  0\\n  8  9  1  0\\n  9 10  2  0\\n  9 11  1  0\\n 11 12  1  0\\n 12 13  1  0\\n 13 14  2  0\\n 14 15  1  0\\n 15 16  2  0\\n 16 17  1  0\\n 16 18  1  0\\n  8 19  1  0\\n 19 20  2  0\\n 20  5  1  0\\n 18 13  1  0\\nM  END\\n\",\"sdf\");\n\tviewer_15860266944861171.addModel(\"\\n     RDKit          3D\\n\\n 20 21  0  0  0  0  0  0  0  0999 V2000\\n   11.3557    5.8739   25.0061 N   0  0  0  0  0  0  0  0  0  0  0  0\\n   10.6007    5.0706   23.7105 S   0  0  0  0  0  0  0  0  0  0  0  0\\n   10.8723    5.8548   22.4826 O   0  0  0  0  0  0  0  0  0  0  0  0\\n    9.2139    4.7793   24.0880 O   0  0  0  0  0  0  0  0  0  0  0  0\\n   11.4873    3.5283   23.5873 C   0  0  0  0  0  0  0  0  0  0  0  0\\n   11.1110    2.4387   24.3966 C   0  0  0  0  0  0  0  0  0  0  0  0\\n   11.7892    1.2284   24.2868 C   0  0  0  0  0  0  0  0  0  0  0  0\\n   12.8443    1.0495   23.3922 C   0  0  0  0  0  0  0  0  0  0  0  0\\n   13.5692   -0.2311   23.2336 C   0  0  0  0  0  0  0  0  0  0  0  0\\n   14.5330   -0.3846   22.4692 O   0  0  0  0  0  0  0  0  0  0  0  0\\n   13.0894   -1.2169   23.9904 O   0  0  0  0  0  0  0  0  0  0  0  0\\n   13.6904   -2.5016   23.9312 C   0  0  0  0  0  0  0  0  0  0  0  0\\n   12.9036   -3.3526   24.9023 C   0  0  0  0  0  0  0  0  0  0  0  0\\n   11.7883   -4.1031   24.6468 C   0  0  0  0  0  0  0  0  0  0  0  0\\n   11.2506   -4.7834   25.6635 C   0  0  0  0  0  0  0  0  0  0  0  0\\n   11.8653   -4.6719   26.8859 C   0  0  0  0  0  0  0  0  0  0  0  0\\n   11.3845   -5.4899   28.5453 Br  0  0  0  0  0  0  0  0  0  0  0  0\\n   13.1684   -3.6225   26.5673 S   0  0  0  0  0  0  0  0  0  0  0  0\\n   13.2256    2.1518   22.5743 C   0  0  0  0  0  0  0  0  0  0  0  0\\n   12.5526    3.3818   22.6707 C   0  0  0  0  0  0  0  0  0  0  0  0\\n  1  2  1  0\\n  2  3  2  0\\n  2  4  2  0\\n  2  5  1  0\\n  5  6  2  0\\n  6  7  1  0\\n  7  8  2  0\\n  8  9  1  0\\n  9 10  2  0\\n  9 11  1  0\\n 11 12  1  0\\n 12 13  1  0\\n 13 14  2  0\\n 14 15  1  0\\n 15 16  2  0\\n 16 17  1  0\\n 16 18  1  0\\n  8 19  1  0\\n 19 20  2  0\\n 20  5  1  0\\n 18 13  1  0\\nM  END\\n\",\"sdf\");\n\tviewer_15860266944861171.addModel(\"\\n     RDKit          3D\\n\\n 20 21  0  0  0  0  0  0  0  0999 V2000\\n   11.3544    5.8727   25.0072 N   0  0  0  0  0  0  0  0  0  0  0  0\\n   10.5993    5.0714   23.7115 S   0  0  0  0  0  0  0  0  0  0  0  0\\n   10.8735    5.8556   22.4835 O   0  0  0  0  0  0  0  0  0  0  0  0\\n    9.2141    4.7791   24.0861 O   0  0  0  0  0  0  0  0  0  0  0  0\\n   11.4962    3.5290   23.5792 C   0  0  0  0  0  0  0  0  0  0  0  0\\n   11.1051    2.4458   24.3987 C   0  0  0  0  0  0  0  0  0  0  0  0\\n   11.7857    1.2192   24.2936 C   0  0  0  0  0  0  0  0  0  0  0  0\\n   12.8509    1.0565   23.3830 C   0  0  0  0  0  0  0  0  0  0  0  0\\n   13.5745   -0.2319   23.2288 C   0  0  0  0  0  0  0  0  0  0  0  0\\n   14.5317   -0.3861   22.4704 O   0  0  0  0  0  0  0  0  0  0  0  0\\n   13.0901   -1.2162   23.9896 O   0  0  0  0  0  0  0  0  0  0  0  0\\n   13.6888   -2.5011   23.9329 C   0  0  0  0  0  0  0  0  0  0  0  0\\n   12.9029   -3.3513   24.9034 C   0  0  0  0  0  0  0  0  0  0  0  0\\n   11.7913   -4.1085   24.6510 C   0  0  0  0  0  0  0  0  0  0  0  0\\n   11.2639   -4.7831   25.6806 C   0  0  0  0  0  0  0  0  0  0  0  0\\n   11.8776   -4.6604   26.8960 C   0  0  0  0  0  0  0  0  0  0  0  0\\n   11.3557   -5.5026   28.5515 Br  0  0  0  0  0  0  0  0  0  0  0  0\\n   13.1742   -3.6062   26.5675 S   0  0  0  0  0  0  0  0  0  0  0  0\\n   13.2203    2.1497   22.5804 C   0  0  0  0  0  0  0  0  0  0  0  0\\n   12.5500    3.3793   22.6747 C   0  0  0  0  0  0  0  0  0  0  0  0\\n  1  2  1  0\\n  2  3  2  0\\n  2  4  2  0\\n  2  5  1  0\\n  5  6  2  0\\n  6  7  1  0\\n  7  8  2  0\\n  8  9  1  0\\n  9 10  2  0\\n  9 11  1  0\\n 11 12  1  0\\n 12 13  1  0\\n 13 14  2  0\\n 14 15  1  0\\n 15 16  2  0\\n 16 17  1  0\\n 16 18  1  0\\n  8 19  1  0\\n 19 20  2  0\\n 20  5  1  0\\n 18 13  1  0\\nM  END\\n\",\"sdf\");\n\tviewer_15860266944861171.addModel(\"\\n     RDKit          3D\\n\\n 20 21  0  0  0  0  0  0  0  0999 V2000\\n    9.4054    5.0499   22.7975 N   0  0  0  0  0  0  0  0  0  0  0  0\\n   10.7322    5.1259   23.8555 S   0  0  0  0  0  0  0  0  0  0  0  0\\n   11.6428    6.1804   23.3586 O   0  0  0  0  0  0  0  0  0  0  0  0\\n   10.2214    5.2029   25.2330 O   0  0  0  0  0  0  0  0  0  0  0  0\\n   11.5399    3.5462   23.6453 C   0  0  0  0  0  0  0  0  0  0  0  0\\n   11.1044    2.4373   24.3731 C   0  0  0  0  0  0  0  0  0  0  0  0\\n   11.7296    1.1999   24.2444 C   0  0  0  0  0  0  0  0  0  0  0  0\\n   12.8331    1.0470   23.3592 C   0  0  0  0  0  0  0  0  0  0  0  0\\n   13.5503   -0.2406   23.2021 C   0  0  0  0  0  0  0  0  0  0  0  0\\n   14.4848   -0.4009   22.4082 O   0  0  0  0  0  0  0  0  0  0  0  0\\n   13.1056   -1.2148   23.9911 O   0  0  0  0  0  0  0  0  0  0  0  0\\n   13.6884   -2.4976   23.9624 C   0  0  0  0  0  0  0  0  0  0  0  0\\n   13.5911   -3.1469   22.6089 C   0  0  0  0  0  0  0  0  0  0  0  0\\n   14.5968   -3.2492   21.6877 C   0  0  0  0  0  0  0  0  0  0  0  0\\n   14.3040   -3.8698   20.5248 C   0  0  0  0  0  0  0  0  0  0  0  0\\n   13.0299   -4.3393   20.3736 C   0  0  0  0  0  0  0  0  0  0  0  0\\n   12.3268   -5.2616   18.8308 Br  0  0  0  0  0  0  0  0  0  0  0  0\\n   12.2802   -3.9088   21.8400 S   0  0  0  0  0  0  0  0  0  0  0  0\\n   13.2659    2.1790   22.6248 C   0  0  0  0  0  0  0  0  0  0  0  0\\n   12.6310    3.4083   22.7645 C   0  0  0  0  0  0  0  0  0  0  0  0\\n  1  2  1  0\\n  2  3  2  0\\n  2  4  2  0\\n  2  5  1  0\\n  5  6  2  0\\n  6  7  1  0\\n  7  8  2  0\\n  8  9  1  0\\n  9 10  2  0\\n  9 11  1  0\\n 11 12  1  0\\n 12 13  1  0\\n 13 14  2  0\\n 14 15  1  0\\n 15 16  2  0\\n 16 17  1  0\\n 16 18  1  0\\n  8 19  1  0\\n 19 20  2  0\\n 20  5  1  0\\n 18 13  1  0\\nM  END\\n\",\"sdf\");\n\tviewer_15860266944861171.addModel(\"\\n     RDKit          3D\\n\\n 20 21  0  0  0  0  0  0  0  0999 V2000\\n   11.3564    5.8738   25.0061 N   0  0  0  0  0  0  0  0  0  0  0  0\\n   10.5990    5.0702   23.7110 S   0  0  0  0  0  0  0  0  0  0  0  0\\n   10.8702    5.8543   22.4832 O   0  0  0  0  0  0  0  0  0  0  0  0\\n    9.2151    4.7790   24.0917 O   0  0  0  0  0  0  0  0  0  0  0  0\\n   11.4905    3.5251   23.5848 C   0  0  0  0  0  0  0  0  0  0  0  0\\n   11.1143    2.4430   24.3928 C   0  0  0  0  0  0  0  0  0  0  0  0\\n   11.7873    1.2247   24.2915 C   0  0  0  0  0  0  0  0  0  0  0  0\\n   12.8469    1.0514   23.3887 C   0  0  0  0  0  0  0  0  0  0  0  0\\n   13.5762   -0.2300   23.2268 C   0  0  0  0  0  0  0  0  0  0  0  0\\n   14.5377   -0.3778   22.4613 O   0  0  0  0  0  0  0  0  0  0  0  0\\n   13.0972   -1.2186   23.9855 O   0  0  0  0  0  0  0  0  0  0  0  0\\n   13.6733   -2.5038   23.9488 C   0  0  0  0  0  0  0  0  0  0  0  0\\n   15.1118   -2.3417   24.3699 C   0  0  0  0  0  0  0  0  0  0  0  0\\n   16.2327   -2.3964   23.5919 C   0  0  0  0  0  0  0  0  0  0  0  0\\n   17.4160   -2.2162   24.1986 C   0  0  0  0  0  0  0  0  0  0  0  0\\n   17.3994   -1.9926   25.5483 C   0  0  0  0  0  0  0  0  0  0  0  0\\n   18.9127   -1.6979   26.7102 Br  0  0  0  0  0  0  0  0  0  0  0  0\\n   15.7396   -2.0405   25.9272 S   0  0  0  0  0  0  0  0  0  0  0  0\\n   13.2216    2.1569   22.5733 C   0  0  0  0  0  0  0  0  0  0  0  0\\n   12.5490    3.3746   22.6743 C   0  0  0  0  0  0  0  0  0  0  0  0\\n  1  2  1  0\\n  2  3  2  0\\n  2  4  2  0\\n  2  5  1  0\\n  5  6  2  0\\n  6  7  1  0\\n  7  8  2  0\\n  8  9  1  0\\n  9 10  2  0\\n  9 11  1  0\\n 11 12  1  0\\n 12 13  1  0\\n 13 14  2  0\\n 14 15  1  0\\n 15 16  2  0\\n 16 17  1  0\\n 16 18  1  0\\n  8 19  1  0\\n 19 20  2  0\\n 20  5  1  0\\n 18 13  1  0\\nM  END\\n\",\"sdf\");\n\tviewer_15860266944861171.addModel(\"\\n     RDKit          3D\\n\\n 20 21  0  0  0  0  0  0  0  0999 V2000\\n   11.3526    5.8738   25.0056 N   0  0  0  0  0  0  0  0  0  0  0  0\\n   10.6036    5.0730   23.7141 S   0  0  0  0  0  0  0  0  0  0  0  0\\n   10.8707    5.8539   22.4829 O   0  0  0  0  0  0  0  0  0  0  0  0\\n    9.2129    4.7780   24.0852 O   0  0  0  0  0  0  0  0  0  0  0  0\\n   11.4939    3.5261   23.5843 C   0  0  0  0  0  0  0  0  0  0  0  0\\n   11.1063    2.4470   24.3976 C   0  0  0  0  0  0  0  0  0  0  0  0\\n   11.7851    1.2200   24.2927 C   0  0  0  0  0  0  0  0  0  0  0  0\\n   12.8521    1.0573   23.3806 C   0  0  0  0  0  0  0  0  0  0  0  0\\n   13.5725   -0.2333   23.2303 C   0  0  0  0  0  0  0  0  0  0  0  0\\n   14.5309   -0.3867   22.4698 O   0  0  0  0  0  0  0  0  0  0  0  0\\n   13.0937   -1.2147   23.9866 O   0  0  0  0  0  0  0  0  0  0  0  0\\n   13.6877   -2.5020   23.9355 C   0  0  0  0  0  0  0  0  0  0  0  0\\n   12.8927   -3.3398   24.9109 C   0  0  0  0  0  0  0  0  0  0  0  0\\n   13.0786   -4.6625   25.2209 C   0  0  0  0  0  0  0  0  0  0  0  0\\n   12.2484   -5.2020   26.1205 C   0  0  0  0  0  0  0  0  0  0  0  0\\n   11.2846   -4.3892   26.6552 C   0  0  0  0  0  0  0  0  0  0  0  0\\n    9.9475   -4.8592   27.9629 Br  0  0  0  0  0  0  0  0  0  0  0  0\\n   11.5671   -2.8975   25.8856 S   0  0  0  0  0  0  0  0  0  0  0  0\\n   13.2181    2.1481   22.5835 C   0  0  0  0  0  0  0  0  0  0  0  0\\n   12.5546    3.3824   22.6710 C   0  0  0  0  0  0  0  0  0  0  0  0\\n  1  2  1  0\\n  2  3  2  0\\n  2  4  2  0\\n  2  5  1  0\\n  5  6  2  0\\n  6  7  1  0\\n  7  8  2  0\\n  8  9  1  0\\n  9 10  2  0\\n  9 11  1  0\\n 11 12  1  0\\n 12 13  1  0\\n 13 14  2  0\\n 14 15  1  0\\n 15 16  2  0\\n 16 17  1  0\\n 16 18  1  0\\n  8 19  1  0\\n 19 20  2  0\\n 20  5  1  0\\n 18 13  1  0\\nM  END\\n\",\"sdf\");\n\tviewer_15860266944861171.addModel(\"\\n     RDKit          3D\\n\\n 20 21  0  0  0  0  0  0  0  0999 V2000\\n   11.3552    5.8743   25.0064 N   0  0  0  0  0  0  0  0  0  0  0  0\\n   10.6023    5.0710   23.7096 S   0  0  0  0  0  0  0  0  0  0  0  0\\n   10.8729    5.8554   22.4818 O   0  0  0  0  0  0  0  0  0  0  0  0\\n    9.2143    4.7797   24.0890 O   0  0  0  0  0  0  0  0  0  0  0  0\\n   11.4906    3.5240   23.5856 C   0  0  0  0  0  0  0  0  0  0  0  0\\n   11.1157    2.4444   24.3887 C   0  0  0  0  0  0  0  0  0  0  0  0\\n   11.7784    1.2219   24.2982 C   0  0  0  0  0  0  0  0  0  0  0  0\\n   12.8538    1.0557   23.3798 C   0  0  0  0  0  0  0  0  0  0  0  0\\n   13.5720   -0.2300   23.2305 C   0  0  0  0  0  0  0  0  0  0  0  0\\n   14.5335   -0.3846   22.4687 O   0  0  0  0  0  0  0  0  0  0  0  0\\n   13.0934   -1.2171   23.9882 O   0  0  0  0  0  0  0  0  0  0  0  0\\n   13.6872   -2.5012   23.9353 C   0  0  0  0  0  0  0  0  0  0  0  0\\n   13.5461   -2.9715   22.5119 C   0  0  0  0  0  0  0  0  0  0  0  0\\n   14.0203   -4.1219   21.9509 C   0  0  0  0  0  0  0  0  0  0  0  0\\n   13.7698   -4.3331   20.6561 C   0  0  0  0  0  0  0  0  0  0  0  0\\n   13.0519   -3.3704   19.9922 C   0  0  0  0  0  0  0  0  0  0  0  0\\n   12.5168   -3.3511   18.1409 Br  0  0  0  0  0  0  0  0  0  0  0  0\\n   12.7563   -2.2053   21.2123 S   0  0  0  0  0  0  0  0  0  0  0  0\\n   13.2154    2.1559   22.5814 C   0  0  0  0  0  0  0  0  0  0  0  0\\n   12.5502    3.3734   22.6762 C   0  0  0  0  0  0  0  0  0  0  0  0\\n  1  2  1  0\\n  2  3  2  0\\n  2  4  2  0\\n  2  5  1  0\\n  5  6  2  0\\n  6  7  1  0\\n  7  8  2  0\\n  8  9  1  0\\n  9 10  2  0\\n  9 11  1  0\\n 11 12  1  0\\n 12 13  1  0\\n 13 14  2  0\\n 14 15  1  0\\n 15 16  2  0\\n 16 17  1  0\\n 16 18  1  0\\n  8 19  1  0\\n 19 20  2  0\\n 20  5  1  0\\n 18 13  1  0\\nM  END\\n\",\"sdf\");\n\tviewer_15860266944861171.addModel(\"\\n     RDKit          3D\\n\\n 20 21  0  0  0  0  0  0  0  0999 V2000\\n   11.3560    5.8721   25.0045 N   0  0  0  0  0  0  0  0  0  0  0  0\\n   10.6039    5.0712   23.7058 S   0  0  0  0  0  0  0  0  0  0  0  0\\n   10.8697    5.8539   22.4813 O   0  0  0  0  0  0  0  0  0  0  0  0\\n    9.2133    4.7786   24.0893 O   0  0  0  0  0  0  0  0  0  0  0  0\\n   11.4881    3.5272   23.5911 C   0  0  0  0  0  0  0  0  0  0  0  0\\n   11.1109    2.4430   24.3984 C   0  0  0  0  0  0  0  0  0  0  0  0\\n   11.7870    1.2232   24.2928 C   0  0  0  0  0  0  0  0  0  0  0  0\\n   12.8555    1.0577   23.3790 C   0  0  0  0  0  0  0  0  0  0  0  0\\n   13.5726   -0.2316   23.2291 C   0  0  0  0  0  0  0  0  0  0  0  0\\n   14.5318   -0.3857   22.4678 O   0  0  0  0  0  0  0  0  0  0  0  0\\n   13.0932   -1.2169   23.9858 O   0  0  0  0  0  0  0  0  0  0  0  0\\n   13.6839   -2.5016   23.9362 C   0  0  0  0  0  0  0  0  0  0  0  0\\n   15.1174   -2.2948   24.3656 C   0  0  0  0  0  0  0  0  0  0  0  0\\n   16.1192   -3.2207   24.4080 C   0  0  0  0  0  0  0  0  0  0  0  0\\n   17.3325   -2.8039   24.8332 C   0  0  0  0  0  0  0  0  0  0  0  0\\n   17.4450   -1.4872   25.1833 C   0  0  0  0  0  0  0  0  0  0  0  0\\n   19.0055   -0.5604   25.8251 Br  0  0  0  0  0  0  0  0  0  0  0  0\\n   15.8802   -0.8760   24.9141 S   0  0  0  0  0  0  0  0  0  0  0  0\\n   13.2118    2.1518   22.5882 C   0  0  0  0  0  0  0  0  0  0  0  0\\n   12.5570    3.3801   22.6703 C   0  0  0  0  0  0  0  0  0  0  0  0\\n  1  2  1  0\\n  2  3  2  0\\n  2  4  2  0\\n  2  5  1  0\\n  5  6  2  0\\n  6  7  1  0\\n  7  8  2  0\\n  8  9  1  0\\n  9 10  2  0\\n  9 11  1  0\\n 11 12  1  0\\n 12 13  1  0\\n 13 14  2  0\\n 14 15  1  0\\n 15 16  2  0\\n 16 17  1  0\\n 16 18  1  0\\n  8 19  1  0\\n 19 20  2  0\\n 20  5  1  0\\n 18 13  1  0\\nM  END\\n\",\"sdf\");\n\tviewer_15860266944861171.addModel(\"\\n     RDKit          3D\\n\\n 20 21  0  0  0  0  0  0  0  0999 V2000\\n    9.4049    5.0505   22.7973 N   0  0  0  0  0  0  0  0  0  0  0  0\\n   10.7313    5.1264   23.8578 S   0  0  0  0  0  0  0  0  0  0  0  0\\n   11.6434    6.1808   23.3564 O   0  0  0  0  0  0  0  0  0  0  0  0\\n   10.2198    5.2044   25.2291 O   0  0  0  0  0  0  0  0  0  0  0  0\\n   11.5459    3.5518   23.6404 C   0  0  0  0  0  0  0  0  0  0  0  0\\n   11.0990    2.4329   24.3806 C   0  0  0  0  0  0  0  0  0  0  0  0\\n   11.7401    1.2090   24.2333 C   0  0  0  0  0  0  0  0  0  0  0  0\\n   12.8285    1.0459   23.3640 C   0  0  0  0  0  0  0  0  0  0  0  0\\n   13.5477   -0.2413   23.2042 C   0  0  0  0  0  0  0  0  0  0  0  0\\n   14.4820   -0.4073   22.4129 O   0  0  0  0  0  0  0  0  0  0  0  0\\n   13.0955   -1.2146   23.9990 O   0  0  0  0  0  0  0  0  0  0  0  0\\n   13.7037   -2.4955   23.9461 C   0  0  0  0  0  0  0  0  0  0  0  0\\n   12.9580   -3.3375   24.9573 C   0  0  0  0  0  0  0  0  0  0  0  0\\n   13.1791   -4.6524   25.2718 C   0  0  0  0  0  0  0  0  0  0  0  0\\n   12.3944   -5.2014   26.2035 C   0  0  0  0  0  0  0  0  0  0  0  0\\n   11.4345   -4.4073   26.7679 C   0  0  0  0  0  0  0  0  0  0  0  0\\n   10.1570   -4.9007   28.1276 Br  0  0  0  0  0  0  0  0  0  0  0  0\\n   11.6573   -2.9125   25.9777 S   0  0  0  0  0  0  0  0  0  0  0  0\\n   13.2611    2.1746   22.6315 C   0  0  0  0  0  0  0  0  0  0  0  0\\n   12.6318    3.4053   22.7669 C   0  0  0  0  0  0  0  0  0  0  0  0\\n  1  2  1  0\\n  2  3  2  0\\n  2  4  2  0\\n  2  5  1  0\\n  5  6  2  0\\n  6  7  1  0\\n  7  8  2  0\\n  8  9  1  0\\n  9 10  2  0\\n  9 11  1  0\\n 11 12  1  0\\n 12 13  1  0\\n 13 14  2  0\\n 14 15  1  0\\n 15 16  2  0\\n 16 17  1  0\\n 16 18  1  0\\n  8 19  1  0\\n 19 20  2  0\\n 20  5  1  0\\n 18 13  1  0\\nM  END\\n\",\"sdf\");\n\tviewer_15860266944861171.addModel(\"\\n     RDKit          3D\\n\\n 20 21  0  0  0  0  0  0  0  0999 V2000\\n   11.3548    5.8727   25.0056 N   0  0  0  0  0  0  0  0  0  0  0  0\\n   10.6041    5.0700   23.7082 S   0  0  0  0  0  0  0  0  0  0  0  0\\n   10.8716    5.8543   22.4802 O   0  0  0  0  0  0  0  0  0  0  0  0\\n    9.2135    4.7788   24.0868 O   0  0  0  0  0  0  0  0  0  0  0  0\\n   11.4926    3.5283   23.5851 C   0  0  0  0  0  0  0  0  0  0  0  0\\n   11.1056    2.4430   24.4018 C   0  0  0  0  0  0  0  0  0  0  0  0\\n   11.7859    1.2219   24.2939 C   0  0  0  0  0  0  0  0  0  0  0  0\\n   12.8491    1.0560   23.3861 C   0  0  0  0  0  0  0  0  0  0  0  0\\n   13.5776   -0.2307   23.2259 C   0  0  0  0  0  0  0  0  0  0  0  0\\n   14.5320   -0.3849   22.4692 O   0  0  0  0  0  0  0  0  0  0  0  0\\n   13.0954   -1.2181   23.9852 O   0  0  0  0  0  0  0  0  0  0  0  0\\n   13.6817   -2.5014   23.9357 C   0  0  0  0  0  0  0  0  0  0  0  0\\n   13.5276   -2.9570   22.5027 C   0  0  0  0  0  0  0  0  0  0  0  0\\n   13.9973   -4.0754   21.9095 C   0  0  0  0  0  0  0  0  0  0  0  0\\n   13.7203   -4.2623   20.6011 C   0  0  0  0  0  0  0  0  0  0  0  0\\n   12.9781   -3.2869   19.9867 C   0  0  0  0  0  0  0  0  0  0  0  0\\n   12.3975   -3.2150   18.1523 Br  0  0  0  0  0  0  0  0  0  0  0  0\\n   12.7000   -2.1655   21.2379 S   0  0  0  0  0  0  0  0  0  0  0  0\\n   13.2203    2.1523   22.5805 C   0  0  0  0  0  0  0  0  0  0  0  0\\n   12.5505    3.3807   22.6755 C   0  0  0  0  0  0  0  0  0  0  0  0\\n  1  2  1  0\\n  2  3  2  0\\n  2  4  2  0\\n  2  5  1  0\\n  5  6  2  0\\n  6  7  1  0\\n  7  8  2  0\\n  8  9  1  0\\n  9 10  2  0\\n  9 11  1  0\\n 11 12  1  0\\n 12 13  1  0\\n 13 14  2  0\\n 14 15  1  0\\n 15 16  2  0\\n 16 17  1  0\\n 16 18  1  0\\n  8 19  1  0\\n 19 20  2  0\\n 20  5  1  0\\n 18 13  1  0\\nM  END\\n\",\"sdf\");\n\tviewer_15860266944861171.setStyle({\"stick\": {}});\n\tviewer_15860266944861171.setBackgroundColor(\"0xeeeeee\");\n\tviewer_15860266944861171.zoomTo();\nviewer_15860266944861171.render();\n});\n</script>",
      "text/html": [
       "<div id=\"3dmolviewer_15860266944861171\"  style=\"position: relative; width: 640px; height: 480px\">\n",
       "        <p id=\"3dmolwarning_15860266944861171\" style=\"background-color:#ffcccc;color:black\">You appear to be running in JupyterLab (or JavaScript failed to load for some other reason).  You need to install the 3dmol extension: <br>\n",
       "        <tt>jupyter labextension install jupyterlab_3dmol</tt></p>\n",
       "        </div>\n",
       "<script>\n",
       "\n",
       "var loadScriptAsync = function(uri){\n",
       "  return new Promise((resolve, reject) => {\n",
       "    var tag = document.createElement('script');\n",
       "    tag.src = uri;\n",
       "    tag.async = true;\n",
       "    tag.onload = () => {\n",
       "      resolve();\n",
       "    };\n",
       "  var firstScriptTag = document.getElementsByTagName('script')[0];\n",
       "  firstScriptTag.parentNode.insertBefore(tag, firstScriptTag);\n",
       "});\n",
       "};\n",
       "\n",
       "if(typeof $3Dmolpromise === 'undefined') {\n",
       "$3Dmolpromise = null;\n",
       "  $3Dmolpromise = loadScriptAsync('https://3dmol.csb.pitt.edu/build/3Dmol.js');\n",
       "}\n",
       "\n",
       "var viewer_15860266944861171 = null;\n",
       "var warn = document.getElementById(\"3dmolwarning_15860266944861171\");\n",
       "if(warn) {\n",
       "    warn.parentNode.removeChild(warn);\n",
       "}\n",
       "$3Dmolpromise.then(function() {\n",
       "viewer_15860266944861171 = $3Dmol.createViewer($(\"#3dmolviewer_15860266944861171\"),{backgroundColor:\"white\"});\n",
       "\tviewer_15860266944861171.addModel(\"\\n     RDKit          3D\\n\\n 20 21  0  0  0  0  0  0  0  0999 V2000\\n   11.3545    5.8728   25.0061 N   0  0  0  0  0  0  0  0  0  0  0  0\\n   10.6008    5.0709   23.7096 S   0  0  0  0  0  0  0  0  0  0  0  0\\n   10.8719    5.8560   22.4817 O   0  0  0  0  0  0  0  0  0  0  0  0\\n    9.2142    4.7792   24.0875 O   0  0  0  0  0  0  0  0  0  0  0  0\\n   11.4952    3.5298   23.5807 C   0  0  0  0  0  0  0  0  0  0  0  0\\n   11.1087    2.4380   24.4006 C   0  0  0  0  0  0  0  0  0  0  0  0\\n   11.7897    1.2283   24.2877 C   0  0  0  0  0  0  0  0  0  0  0  0\\n   12.8465    1.0522   23.3897 C   0  0  0  0  0  0  0  0  0  0  0  0\\n   13.5717   -0.2305   23.2312 C   0  0  0  0  0  0  0  0  0  0  0  0\\n   14.5335   -0.3840   22.4684 O   0  0  0  0  0  0  0  0  0  0  0  0\\n   13.0896   -1.2180   23.9904 O   0  0  0  0  0  0  0  0  0  0  0  0\\n   13.6870   -2.5012   23.9321 C   0  0  0  0  0  0  0  0  0  0  0  0\\n   13.5447   -2.9636   22.5071 C   0  0  0  0  0  0  0  0  0  0  0  0\\n   14.0188   -4.1155   21.9521 C   0  0  0  0  0  0  0  0  0  0  0  0\\n   13.7708   -4.3263   20.6507 C   0  0  0  0  0  0  0  0  0  0  0  0\\n   13.0590   -3.3637   19.9837 C   0  0  0  0  0  0  0  0  0  0  0  0\\n   12.5370   -3.3560   18.1281 Br  0  0  0  0  0  0  0  0  0  0  0  0\\n   12.7635   -2.2026   21.1968 S   0  0  0  0  0  0  0  0  0  0  0  0\\n   13.2226    2.1567   22.5752 C   0  0  0  0  0  0  0  0  0  0  0  0\\n   12.5488    3.3726   22.6786 C   0  0  0  0  0  0  0  0  0  0  0  0\\n  1  2  1  0\\n  2  3  2  0\\n  2  4  2  0\\n  2  5  1  0\\n  5  6  2  0\\n  6  7  1  0\\n  7  8  2  0\\n  8  9  1  0\\n  9 10  2  0\\n  9 11  1  0\\n 11 12  1  0\\n 12 13  1  0\\n 13 14  2  0\\n 14 15  1  0\\n 15 16  2  0\\n 16 17  1  0\\n 16 18  1  0\\n  8 19  1  0\\n 19 20  2  0\\n 20  5  1  0\\n 18 13  1  0\\nM  END\\n\",\"sdf\");\n",
       "\tviewer_15860266944861171.addModel(\"\\n     RDKit          3D\\n\\n 20 21  0  0  0  0  0  0  0  0999 V2000\\n   11.3557    5.8739   25.0061 N   0  0  0  0  0  0  0  0  0  0  0  0\\n   10.6007    5.0706   23.7105 S   0  0  0  0  0  0  0  0  0  0  0  0\\n   10.8723    5.8548   22.4826 O   0  0  0  0  0  0  0  0  0  0  0  0\\n    9.2139    4.7793   24.0880 O   0  0  0  0  0  0  0  0  0  0  0  0\\n   11.4873    3.5283   23.5873 C   0  0  0  0  0  0  0  0  0  0  0  0\\n   11.1110    2.4387   24.3966 C   0  0  0  0  0  0  0  0  0  0  0  0\\n   11.7892    1.2284   24.2868 C   0  0  0  0  0  0  0  0  0  0  0  0\\n   12.8443    1.0495   23.3922 C   0  0  0  0  0  0  0  0  0  0  0  0\\n   13.5692   -0.2311   23.2336 C   0  0  0  0  0  0  0  0  0  0  0  0\\n   14.5330   -0.3846   22.4692 O   0  0  0  0  0  0  0  0  0  0  0  0\\n   13.0894   -1.2169   23.9904 O   0  0  0  0  0  0  0  0  0  0  0  0\\n   13.6904   -2.5016   23.9312 C   0  0  0  0  0  0  0  0  0  0  0  0\\n   12.9036   -3.3526   24.9023 C   0  0  0  0  0  0  0  0  0  0  0  0\\n   11.7883   -4.1031   24.6468 C   0  0  0  0  0  0  0  0  0  0  0  0\\n   11.2506   -4.7834   25.6635 C   0  0  0  0  0  0  0  0  0  0  0  0\\n   11.8653   -4.6719   26.8859 C   0  0  0  0  0  0  0  0  0  0  0  0\\n   11.3845   -5.4899   28.5453 Br  0  0  0  0  0  0  0  0  0  0  0  0\\n   13.1684   -3.6225   26.5673 S   0  0  0  0  0  0  0  0  0  0  0  0\\n   13.2256    2.1518   22.5743 C   0  0  0  0  0  0  0  0  0  0  0  0\\n   12.5526    3.3818   22.6707 C   0  0  0  0  0  0  0  0  0  0  0  0\\n  1  2  1  0\\n  2  3  2  0\\n  2  4  2  0\\n  2  5  1  0\\n  5  6  2  0\\n  6  7  1  0\\n  7  8  2  0\\n  8  9  1  0\\n  9 10  2  0\\n  9 11  1  0\\n 11 12  1  0\\n 12 13  1  0\\n 13 14  2  0\\n 14 15  1  0\\n 15 16  2  0\\n 16 17  1  0\\n 16 18  1  0\\n  8 19  1  0\\n 19 20  2  0\\n 20  5  1  0\\n 18 13  1  0\\nM  END\\n\",\"sdf\");\n",
       "\tviewer_15860266944861171.addModel(\"\\n     RDKit          3D\\n\\n 20 21  0  0  0  0  0  0  0  0999 V2000\\n   11.3544    5.8727   25.0072 N   0  0  0  0  0  0  0  0  0  0  0  0\\n   10.5993    5.0714   23.7115 S   0  0  0  0  0  0  0  0  0  0  0  0\\n   10.8735    5.8556   22.4835 O   0  0  0  0  0  0  0  0  0  0  0  0\\n    9.2141    4.7791   24.0861 O   0  0  0  0  0  0  0  0  0  0  0  0\\n   11.4962    3.5290   23.5792 C   0  0  0  0  0  0  0  0  0  0  0  0\\n   11.1051    2.4458   24.3987 C   0  0  0  0  0  0  0  0  0  0  0  0\\n   11.7857    1.2192   24.2936 C   0  0  0  0  0  0  0  0  0  0  0  0\\n   12.8509    1.0565   23.3830 C   0  0  0  0  0  0  0  0  0  0  0  0\\n   13.5745   -0.2319   23.2288 C   0  0  0  0  0  0  0  0  0  0  0  0\\n   14.5317   -0.3861   22.4704 O   0  0  0  0  0  0  0  0  0  0  0  0\\n   13.0901   -1.2162   23.9896 O   0  0  0  0  0  0  0  0  0  0  0  0\\n   13.6888   -2.5011   23.9329 C   0  0  0  0  0  0  0  0  0  0  0  0\\n   12.9029   -3.3513   24.9034 C   0  0  0  0  0  0  0  0  0  0  0  0\\n   11.7913   -4.1085   24.6510 C   0  0  0  0  0  0  0  0  0  0  0  0\\n   11.2639   -4.7831   25.6806 C   0  0  0  0  0  0  0  0  0  0  0  0\\n   11.8776   -4.6604   26.8960 C   0  0  0  0  0  0  0  0  0  0  0  0\\n   11.3557   -5.5026   28.5515 Br  0  0  0  0  0  0  0  0  0  0  0  0\\n   13.1742   -3.6062   26.5675 S   0  0  0  0  0  0  0  0  0  0  0  0\\n   13.2203    2.1497   22.5804 C   0  0  0  0  0  0  0  0  0  0  0  0\\n   12.5500    3.3793   22.6747 C   0  0  0  0  0  0  0  0  0  0  0  0\\n  1  2  1  0\\n  2  3  2  0\\n  2  4  2  0\\n  2  5  1  0\\n  5  6  2  0\\n  6  7  1  0\\n  7  8  2  0\\n  8  9  1  0\\n  9 10  2  0\\n  9 11  1  0\\n 11 12  1  0\\n 12 13  1  0\\n 13 14  2  0\\n 14 15  1  0\\n 15 16  2  0\\n 16 17  1  0\\n 16 18  1  0\\n  8 19  1  0\\n 19 20  2  0\\n 20  5  1  0\\n 18 13  1  0\\nM  END\\n\",\"sdf\");\n",
       "\tviewer_15860266944861171.addModel(\"\\n     RDKit          3D\\n\\n 20 21  0  0  0  0  0  0  0  0999 V2000\\n    9.4054    5.0499   22.7975 N   0  0  0  0  0  0  0  0  0  0  0  0\\n   10.7322    5.1259   23.8555 S   0  0  0  0  0  0  0  0  0  0  0  0\\n   11.6428    6.1804   23.3586 O   0  0  0  0  0  0  0  0  0  0  0  0\\n   10.2214    5.2029   25.2330 O   0  0  0  0  0  0  0  0  0  0  0  0\\n   11.5399    3.5462   23.6453 C   0  0  0  0  0  0  0  0  0  0  0  0\\n   11.1044    2.4373   24.3731 C   0  0  0  0  0  0  0  0  0  0  0  0\\n   11.7296    1.1999   24.2444 C   0  0  0  0  0  0  0  0  0  0  0  0\\n   12.8331    1.0470   23.3592 C   0  0  0  0  0  0  0  0  0  0  0  0\\n   13.5503   -0.2406   23.2021 C   0  0  0  0  0  0  0  0  0  0  0  0\\n   14.4848   -0.4009   22.4082 O   0  0  0  0  0  0  0  0  0  0  0  0\\n   13.1056   -1.2148   23.9911 O   0  0  0  0  0  0  0  0  0  0  0  0\\n   13.6884   -2.4976   23.9624 C   0  0  0  0  0  0  0  0  0  0  0  0\\n   13.5911   -3.1469   22.6089 C   0  0  0  0  0  0  0  0  0  0  0  0\\n   14.5968   -3.2492   21.6877 C   0  0  0  0  0  0  0  0  0  0  0  0\\n   14.3040   -3.8698   20.5248 C   0  0  0  0  0  0  0  0  0  0  0  0\\n   13.0299   -4.3393   20.3736 C   0  0  0  0  0  0  0  0  0  0  0  0\\n   12.3268   -5.2616   18.8308 Br  0  0  0  0  0  0  0  0  0  0  0  0\\n   12.2802   -3.9088   21.8400 S   0  0  0  0  0  0  0  0  0  0  0  0\\n   13.2659    2.1790   22.6248 C   0  0  0  0  0  0  0  0  0  0  0  0\\n   12.6310    3.4083   22.7645 C   0  0  0  0  0  0  0  0  0  0  0  0\\n  1  2  1  0\\n  2  3  2  0\\n  2  4  2  0\\n  2  5  1  0\\n  5  6  2  0\\n  6  7  1  0\\n  7  8  2  0\\n  8  9  1  0\\n  9 10  2  0\\n  9 11  1  0\\n 11 12  1  0\\n 12 13  1  0\\n 13 14  2  0\\n 14 15  1  0\\n 15 16  2  0\\n 16 17  1  0\\n 16 18  1  0\\n  8 19  1  0\\n 19 20  2  0\\n 20  5  1  0\\n 18 13  1  0\\nM  END\\n\",\"sdf\");\n",
       "\tviewer_15860266944861171.addModel(\"\\n     RDKit          3D\\n\\n 20 21  0  0  0  0  0  0  0  0999 V2000\\n   11.3564    5.8738   25.0061 N   0  0  0  0  0  0  0  0  0  0  0  0\\n   10.5990    5.0702   23.7110 S   0  0  0  0  0  0  0  0  0  0  0  0\\n   10.8702    5.8543   22.4832 O   0  0  0  0  0  0  0  0  0  0  0  0\\n    9.2151    4.7790   24.0917 O   0  0  0  0  0  0  0  0  0  0  0  0\\n   11.4905    3.5251   23.5848 C   0  0  0  0  0  0  0  0  0  0  0  0\\n   11.1143    2.4430   24.3928 C   0  0  0  0  0  0  0  0  0  0  0  0\\n   11.7873    1.2247   24.2915 C   0  0  0  0  0  0  0  0  0  0  0  0\\n   12.8469    1.0514   23.3887 C   0  0  0  0  0  0  0  0  0  0  0  0\\n   13.5762   -0.2300   23.2268 C   0  0  0  0  0  0  0  0  0  0  0  0\\n   14.5377   -0.3778   22.4613 O   0  0  0  0  0  0  0  0  0  0  0  0\\n   13.0972   -1.2186   23.9855 O   0  0  0  0  0  0  0  0  0  0  0  0\\n   13.6733   -2.5038   23.9488 C   0  0  0  0  0  0  0  0  0  0  0  0\\n   15.1118   -2.3417   24.3699 C   0  0  0  0  0  0  0  0  0  0  0  0\\n   16.2327   -2.3964   23.5919 C   0  0  0  0  0  0  0  0  0  0  0  0\\n   17.4160   -2.2162   24.1986 C   0  0  0  0  0  0  0  0  0  0  0  0\\n   17.3994   -1.9926   25.5483 C   0  0  0  0  0  0  0  0  0  0  0  0\\n   18.9127   -1.6979   26.7102 Br  0  0  0  0  0  0  0  0  0  0  0  0\\n   15.7396   -2.0405   25.9272 S   0  0  0  0  0  0  0  0  0  0  0  0\\n   13.2216    2.1569   22.5733 C   0  0  0  0  0  0  0  0  0  0  0  0\\n   12.5490    3.3746   22.6743 C   0  0  0  0  0  0  0  0  0  0  0  0\\n  1  2  1  0\\n  2  3  2  0\\n  2  4  2  0\\n  2  5  1  0\\n  5  6  2  0\\n  6  7  1  0\\n  7  8  2  0\\n  8  9  1  0\\n  9 10  2  0\\n  9 11  1  0\\n 11 12  1  0\\n 12 13  1  0\\n 13 14  2  0\\n 14 15  1  0\\n 15 16  2  0\\n 16 17  1  0\\n 16 18  1  0\\n  8 19  1  0\\n 19 20  2  0\\n 20  5  1  0\\n 18 13  1  0\\nM  END\\n\",\"sdf\");\n",
       "\tviewer_15860266944861171.addModel(\"\\n     RDKit          3D\\n\\n 20 21  0  0  0  0  0  0  0  0999 V2000\\n   11.3526    5.8738   25.0056 N   0  0  0  0  0  0  0  0  0  0  0  0\\n   10.6036    5.0730   23.7141 S   0  0  0  0  0  0  0  0  0  0  0  0\\n   10.8707    5.8539   22.4829 O   0  0  0  0  0  0  0  0  0  0  0  0\\n    9.2129    4.7780   24.0852 O   0  0  0  0  0  0  0  0  0  0  0  0\\n   11.4939    3.5261   23.5843 C   0  0  0  0  0  0  0  0  0  0  0  0\\n   11.1063    2.4470   24.3976 C   0  0  0  0  0  0  0  0  0  0  0  0\\n   11.7851    1.2200   24.2927 C   0  0  0  0  0  0  0  0  0  0  0  0\\n   12.8521    1.0573   23.3806 C   0  0  0  0  0  0  0  0  0  0  0  0\\n   13.5725   -0.2333   23.2303 C   0  0  0  0  0  0  0  0  0  0  0  0\\n   14.5309   -0.3867   22.4698 O   0  0  0  0  0  0  0  0  0  0  0  0\\n   13.0937   -1.2147   23.9866 O   0  0  0  0  0  0  0  0  0  0  0  0\\n   13.6877   -2.5020   23.9355 C   0  0  0  0  0  0  0  0  0  0  0  0\\n   12.8927   -3.3398   24.9109 C   0  0  0  0  0  0  0  0  0  0  0  0\\n   13.0786   -4.6625   25.2209 C   0  0  0  0  0  0  0  0  0  0  0  0\\n   12.2484   -5.2020   26.1205 C   0  0  0  0  0  0  0  0  0  0  0  0\\n   11.2846   -4.3892   26.6552 C   0  0  0  0  0  0  0  0  0  0  0  0\\n    9.9475   -4.8592   27.9629 Br  0  0  0  0  0  0  0  0  0  0  0  0\\n   11.5671   -2.8975   25.8856 S   0  0  0  0  0  0  0  0  0  0  0  0\\n   13.2181    2.1481   22.5835 C   0  0  0  0  0  0  0  0  0  0  0  0\\n   12.5546    3.3824   22.6710 C   0  0  0  0  0  0  0  0  0  0  0  0\\n  1  2  1  0\\n  2  3  2  0\\n  2  4  2  0\\n  2  5  1  0\\n  5  6  2  0\\n  6  7  1  0\\n  7  8  2  0\\n  8  9  1  0\\n  9 10  2  0\\n  9 11  1  0\\n 11 12  1  0\\n 12 13  1  0\\n 13 14  2  0\\n 14 15  1  0\\n 15 16  2  0\\n 16 17  1  0\\n 16 18  1  0\\n  8 19  1  0\\n 19 20  2  0\\n 20  5  1  0\\n 18 13  1  0\\nM  END\\n\",\"sdf\");\n",
       "\tviewer_15860266944861171.addModel(\"\\n     RDKit          3D\\n\\n 20 21  0  0  0  0  0  0  0  0999 V2000\\n   11.3552    5.8743   25.0064 N   0  0  0  0  0  0  0  0  0  0  0  0\\n   10.6023    5.0710   23.7096 S   0  0  0  0  0  0  0  0  0  0  0  0\\n   10.8729    5.8554   22.4818 O   0  0  0  0  0  0  0  0  0  0  0  0\\n    9.2143    4.7797   24.0890 O   0  0  0  0  0  0  0  0  0  0  0  0\\n   11.4906    3.5240   23.5856 C   0  0  0  0  0  0  0  0  0  0  0  0\\n   11.1157    2.4444   24.3887 C   0  0  0  0  0  0  0  0  0  0  0  0\\n   11.7784    1.2219   24.2982 C   0  0  0  0  0  0  0  0  0  0  0  0\\n   12.8538    1.0557   23.3798 C   0  0  0  0  0  0  0  0  0  0  0  0\\n   13.5720   -0.2300   23.2305 C   0  0  0  0  0  0  0  0  0  0  0  0\\n   14.5335   -0.3846   22.4687 O   0  0  0  0  0  0  0  0  0  0  0  0\\n   13.0934   -1.2171   23.9882 O   0  0  0  0  0  0  0  0  0  0  0  0\\n   13.6872   -2.5012   23.9353 C   0  0  0  0  0  0  0  0  0  0  0  0\\n   13.5461   -2.9715   22.5119 C   0  0  0  0  0  0  0  0  0  0  0  0\\n   14.0203   -4.1219   21.9509 C   0  0  0  0  0  0  0  0  0  0  0  0\\n   13.7698   -4.3331   20.6561 C   0  0  0  0  0  0  0  0  0  0  0  0\\n   13.0519   -3.3704   19.9922 C   0  0  0  0  0  0  0  0  0  0  0  0\\n   12.5168   -3.3511   18.1409 Br  0  0  0  0  0  0  0  0  0  0  0  0\\n   12.7563   -2.2053   21.2123 S   0  0  0  0  0  0  0  0  0  0  0  0\\n   13.2154    2.1559   22.5814 C   0  0  0  0  0  0  0  0  0  0  0  0\\n   12.5502    3.3734   22.6762 C   0  0  0  0  0  0  0  0  0  0  0  0\\n  1  2  1  0\\n  2  3  2  0\\n  2  4  2  0\\n  2  5  1  0\\n  5  6  2  0\\n  6  7  1  0\\n  7  8  2  0\\n  8  9  1  0\\n  9 10  2  0\\n  9 11  1  0\\n 11 12  1  0\\n 12 13  1  0\\n 13 14  2  0\\n 14 15  1  0\\n 15 16  2  0\\n 16 17  1  0\\n 16 18  1  0\\n  8 19  1  0\\n 19 20  2  0\\n 20  5  1  0\\n 18 13  1  0\\nM  END\\n\",\"sdf\");\n",
       "\tviewer_15860266944861171.addModel(\"\\n     RDKit          3D\\n\\n 20 21  0  0  0  0  0  0  0  0999 V2000\\n   11.3560    5.8721   25.0045 N   0  0  0  0  0  0  0  0  0  0  0  0\\n   10.6039    5.0712   23.7058 S   0  0  0  0  0  0  0  0  0  0  0  0\\n   10.8697    5.8539   22.4813 O   0  0  0  0  0  0  0  0  0  0  0  0\\n    9.2133    4.7786   24.0893 O   0  0  0  0  0  0  0  0  0  0  0  0\\n   11.4881    3.5272   23.5911 C   0  0  0  0  0  0  0  0  0  0  0  0\\n   11.1109    2.4430   24.3984 C   0  0  0  0  0  0  0  0  0  0  0  0\\n   11.7870    1.2232   24.2928 C   0  0  0  0  0  0  0  0  0  0  0  0\\n   12.8555    1.0577   23.3790 C   0  0  0  0  0  0  0  0  0  0  0  0\\n   13.5726   -0.2316   23.2291 C   0  0  0  0  0  0  0  0  0  0  0  0\\n   14.5318   -0.3857   22.4678 O   0  0  0  0  0  0  0  0  0  0  0  0\\n   13.0932   -1.2169   23.9858 O   0  0  0  0  0  0  0  0  0  0  0  0\\n   13.6839   -2.5016   23.9362 C   0  0  0  0  0  0  0  0  0  0  0  0\\n   15.1174   -2.2948   24.3656 C   0  0  0  0  0  0  0  0  0  0  0  0\\n   16.1192   -3.2207   24.4080 C   0  0  0  0  0  0  0  0  0  0  0  0\\n   17.3325   -2.8039   24.8332 C   0  0  0  0  0  0  0  0  0  0  0  0\\n   17.4450   -1.4872   25.1833 C   0  0  0  0  0  0  0  0  0  0  0  0\\n   19.0055   -0.5604   25.8251 Br  0  0  0  0  0  0  0  0  0  0  0  0\\n   15.8802   -0.8760   24.9141 S   0  0  0  0  0  0  0  0  0  0  0  0\\n   13.2118    2.1518   22.5882 C   0  0  0  0  0  0  0  0  0  0  0  0\\n   12.5570    3.3801   22.6703 C   0  0  0  0  0  0  0  0  0  0  0  0\\n  1  2  1  0\\n  2  3  2  0\\n  2  4  2  0\\n  2  5  1  0\\n  5  6  2  0\\n  6  7  1  0\\n  7  8  2  0\\n  8  9  1  0\\n  9 10  2  0\\n  9 11  1  0\\n 11 12  1  0\\n 12 13  1  0\\n 13 14  2  0\\n 14 15  1  0\\n 15 16  2  0\\n 16 17  1  0\\n 16 18  1  0\\n  8 19  1  0\\n 19 20  2  0\\n 20  5  1  0\\n 18 13  1  0\\nM  END\\n\",\"sdf\");\n",
       "\tviewer_15860266944861171.addModel(\"\\n     RDKit          3D\\n\\n 20 21  0  0  0  0  0  0  0  0999 V2000\\n    9.4049    5.0505   22.7973 N   0  0  0  0  0  0  0  0  0  0  0  0\\n   10.7313    5.1264   23.8578 S   0  0  0  0  0  0  0  0  0  0  0  0\\n   11.6434    6.1808   23.3564 O   0  0  0  0  0  0  0  0  0  0  0  0\\n   10.2198    5.2044   25.2291 O   0  0  0  0  0  0  0  0  0  0  0  0\\n   11.5459    3.5518   23.6404 C   0  0  0  0  0  0  0  0  0  0  0  0\\n   11.0990    2.4329   24.3806 C   0  0  0  0  0  0  0  0  0  0  0  0\\n   11.7401    1.2090   24.2333 C   0  0  0  0  0  0  0  0  0  0  0  0\\n   12.8285    1.0459   23.3640 C   0  0  0  0  0  0  0  0  0  0  0  0\\n   13.5477   -0.2413   23.2042 C   0  0  0  0  0  0  0  0  0  0  0  0\\n   14.4820   -0.4073   22.4129 O   0  0  0  0  0  0  0  0  0  0  0  0\\n   13.0955   -1.2146   23.9990 O   0  0  0  0  0  0  0  0  0  0  0  0\\n   13.7037   -2.4955   23.9461 C   0  0  0  0  0  0  0  0  0  0  0  0\\n   12.9580   -3.3375   24.9573 C   0  0  0  0  0  0  0  0  0  0  0  0\\n   13.1791   -4.6524   25.2718 C   0  0  0  0  0  0  0  0  0  0  0  0\\n   12.3944   -5.2014   26.2035 C   0  0  0  0  0  0  0  0  0  0  0  0\\n   11.4345   -4.4073   26.7679 C   0  0  0  0  0  0  0  0  0  0  0  0\\n   10.1570   -4.9007   28.1276 Br  0  0  0  0  0  0  0  0  0  0  0  0\\n   11.6573   -2.9125   25.9777 S   0  0  0  0  0  0  0  0  0  0  0  0\\n   13.2611    2.1746   22.6315 C   0  0  0  0  0  0  0  0  0  0  0  0\\n   12.6318    3.4053   22.7669 C   0  0  0  0  0  0  0  0  0  0  0  0\\n  1  2  1  0\\n  2  3  2  0\\n  2  4  2  0\\n  2  5  1  0\\n  5  6  2  0\\n  6  7  1  0\\n  7  8  2  0\\n  8  9  1  0\\n  9 10  2  0\\n  9 11  1  0\\n 11 12  1  0\\n 12 13  1  0\\n 13 14  2  0\\n 14 15  1  0\\n 15 16  2  0\\n 16 17  1  0\\n 16 18  1  0\\n  8 19  1  0\\n 19 20  2  0\\n 20  5  1  0\\n 18 13  1  0\\nM  END\\n\",\"sdf\");\n",
       "\tviewer_15860266944861171.addModel(\"\\n     RDKit          3D\\n\\n 20 21  0  0  0  0  0  0  0  0999 V2000\\n   11.3548    5.8727   25.0056 N   0  0  0  0  0  0  0  0  0  0  0  0\\n   10.6041    5.0700   23.7082 S   0  0  0  0  0  0  0  0  0  0  0  0\\n   10.8716    5.8543   22.4802 O   0  0  0  0  0  0  0  0  0  0  0  0\\n    9.2135    4.7788   24.0868 O   0  0  0  0  0  0  0  0  0  0  0  0\\n   11.4926    3.5283   23.5851 C   0  0  0  0  0  0  0  0  0  0  0  0\\n   11.1056    2.4430   24.4018 C   0  0  0  0  0  0  0  0  0  0  0  0\\n   11.7859    1.2219   24.2939 C   0  0  0  0  0  0  0  0  0  0  0  0\\n   12.8491    1.0560   23.3861 C   0  0  0  0  0  0  0  0  0  0  0  0\\n   13.5776   -0.2307   23.2259 C   0  0  0  0  0  0  0  0  0  0  0  0\\n   14.5320   -0.3849   22.4692 O   0  0  0  0  0  0  0  0  0  0  0  0\\n   13.0954   -1.2181   23.9852 O   0  0  0  0  0  0  0  0  0  0  0  0\\n   13.6817   -2.5014   23.9357 C   0  0  0  0  0  0  0  0  0  0  0  0\\n   13.5276   -2.9570   22.5027 C   0  0  0  0  0  0  0  0  0  0  0  0\\n   13.9973   -4.0754   21.9095 C   0  0  0  0  0  0  0  0  0  0  0  0\\n   13.7203   -4.2623   20.6011 C   0  0  0  0  0  0  0  0  0  0  0  0\\n   12.9781   -3.2869   19.9867 C   0  0  0  0  0  0  0  0  0  0  0  0\\n   12.3975   -3.2150   18.1523 Br  0  0  0  0  0  0  0  0  0  0  0  0\\n   12.7000   -2.1655   21.2379 S   0  0  0  0  0  0  0  0  0  0  0  0\\n   13.2203    2.1523   22.5805 C   0  0  0  0  0  0  0  0  0  0  0  0\\n   12.5505    3.3807   22.6755 C   0  0  0  0  0  0  0  0  0  0  0  0\\n  1  2  1  0\\n  2  3  2  0\\n  2  4  2  0\\n  2  5  1  0\\n  5  6  2  0\\n  6  7  1  0\\n  7  8  2  0\\n  8  9  1  0\\n  9 10  2  0\\n  9 11  1  0\\n 11 12  1  0\\n 12 13  1  0\\n 13 14  2  0\\n 14 15  1  0\\n 15 16  2  0\\n 16 17  1  0\\n 16 18  1  0\\n  8 19  1  0\\n 19 20  2  0\\n 20  5  1  0\\n 18 13  1  0\\nM  END\\n\",\"sdf\");\n",
       "\tviewer_15860266944861171.setStyle({\"stick\": {}});\n",
       "\tviewer_15860266944861171.setBackgroundColor(\"0xeeeeee\");\n",
       "\tviewer_15860266944861171.zoomTo();\n",
       "viewer_15860266944861171.render();\n",
       "});\n",
       "</script>"
      ]
     },
     "metadata": {},
     "output_type": "display_data"
    },
    {
     "data": {
      "text/plain": [
       "<py3Dmol.view at 0x11b0d0a90>"
      ]
     },
     "execution_count": 66,
     "metadata": {},
     "output_type": "execute_result"
    }
   ],
   "source": [
    "import py3Dmol \n",
    "view = py3Dmol.view() \n",
    "for i in range(mol.GetNumConformers()):\n",
    "    mb = Chem.MolToMolBlock(RemoveHs(mol),confId=i)\n",
    "    view.addModel(mb,'sdf')\n",
    "view.setStyle({'stick':{}})\n",
    "view.setBackgroundColor('0xeeeeee')\n",
    "view.zoomTo()\n",
    "view"
   ]
  },
  {
   "cell_type": "markdown",
   "metadata": {},
   "source": [
    "Try this again with **ConstrainedEmbed**"
   ]
  },
  {
   "cell_type": "code",
   "execution_count": 60,
   "metadata": {},
   "outputs": [],
   "source": [
    "mol_2 = Chem.AddHs(Chem.MolFromSmiles(smiles))\n",
    "newmol = AllChem.ConstrainedEmbed(mol_2,ref)"
   ]
  },
  {
   "cell_type": "markdown",
   "metadata": {},
   "source": [
    "Looks like this only generated a sing conformer"
   ]
  },
  {
   "cell_type": "code",
   "execution_count": 61,
   "metadata": {},
   "outputs": [
    {
     "data": {
      "text/plain": [
       "1"
      ]
     },
     "execution_count": 61,
     "metadata": {},
     "output_type": "execute_result"
    }
   ],
   "source": [
    "newmol.GetNumConformers()"
   ]
  },
  {
   "cell_type": "code",
   "execution_count": null,
   "metadata": {},
   "outputs": [],
   "source": []
  },
  {
   "cell_type": "code",
   "execution_count": null,
   "metadata": {},
   "outputs": [],
   "source": []
  },
  {
   "cell_type": "code",
   "execution_count": null,
   "metadata": {},
   "outputs": [],
   "source": []
  }
 ],
 "metadata": {
  "kernelspec": {
   "display_name": "Python 3",
   "language": "python",
   "name": "python3"
  },
  "language_info": {
   "codemirror_mode": {
    "name": "ipython",
    "version": 3
   },
   "file_extension": ".py",
   "mimetype": "text/x-python",
   "name": "python",
   "nbconvert_exporter": "python",
   "pygments_lexer": "ipython3",
   "version": "3.7.6"
  }
 },
 "nbformat": 4,
 "nbformat_minor": 4
}
